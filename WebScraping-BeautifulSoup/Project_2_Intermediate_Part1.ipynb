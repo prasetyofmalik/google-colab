{
  "cells": [
    {
      "cell_type": "markdown",
      "metadata": {
        "id": "view-in-github",
        "colab_type": "text"
      },
      "source": [
        "<a href=\"https://colab.research.google.com/github/prasetyofmalik/google-colab/blob/main/WebScraping-BeautifulSoup/Project_2_Intermediate_Part1.ipynb\" target=\"_parent\"><img src=\"https://colab.research.google.com/assets/colab-badge.svg\" alt=\"Open In Colab\"/></a>"
      ]
    },
    {
      "cell_type": "markdown",
      "metadata": {
        "id": "hnMu3-w0olQq"
      },
      "source": [
        "### Imports"
      ]
    },
    {
      "cell_type": "code",
      "execution_count": null,
      "metadata": {
        "id": "FP_c8dLwolQw"
      },
      "outputs": [],
      "source": [
        "from bs4 import BeautifulSoup\n",
        "import requests\n",
        "import pandas as pd"
      ]
    },
    {
      "cell_type": "markdown",
      "metadata": {
        "id": "JReUKXzTolQx"
      },
      "source": [
        "### HTTP Request"
      ]
    },
    {
      "cell_type": "markdown",
      "metadata": {
        "id": "ygvLjp96olQy"
      },
      "source": [
        "#### store website in variable"
      ]
    },
    {
      "cell_type": "code",
      "execution_count": null,
      "metadata": {
        "id": "ecnkPHrUolQz"
      },
      "outputs": [],
      "source": [
        "website = 'https://www.trulia.com/CA/San_Francisco/'"
      ]
    },
    {
      "cell_type": "markdown",
      "metadata": {
        "id": "n9zM5C2iolQz"
      },
      "source": [
        "#### Get Request"
      ]
    },
    {
      "cell_type": "code",
      "execution_count": null,
      "metadata": {
        "id": "lImA7tSdolQz"
      },
      "outputs": [],
      "source": [
        "response = requests.get(website)"
      ]
    },
    {
      "cell_type": "markdown",
      "metadata": {
        "id": "lJICFvk0olQ0"
      },
      "source": [
        "#### Status Code"
      ]
    },
    {
      "cell_type": "code",
      "execution_count": null,
      "metadata": {
        "colab": {
          "base_uri": "https://localhost:8080/"
        },
        "id": "oWEgdSemolQ0",
        "outputId": "1f5ae137-ff60-4bf3-85e3-9f32b366afa5"
      },
      "outputs": [
        {
          "output_type": "execute_result",
          "data": {
            "text/plain": [
              "200"
            ]
          },
          "metadata": {},
          "execution_count": 4
        }
      ],
      "source": [
        "response.status_code"
      ]
    },
    {
      "cell_type": "markdown",
      "metadata": {
        "id": "wI2Hg7AMolQ0"
      },
      "source": [
        "### Soup Object"
      ]
    },
    {
      "cell_type": "code",
      "execution_count": null,
      "metadata": {
        "id": "Myz39Z1folQ1"
      },
      "outputs": [],
      "source": [
        "soup = BeautifulSoup(response.content, 'html.parser')"
      ]
    },
    {
      "cell_type": "code",
      "execution_count": null,
      "metadata": {
        "id": "BVUoopQYolQ2"
      },
      "outputs": [],
      "source": [
        "# soup"
      ]
    },
    {
      "cell_type": "markdown",
      "metadata": {
        "id": "Ye-bqqjwolQ2"
      },
      "source": [
        "### Results"
      ]
    },
    {
      "cell_type": "code",
      "execution_count": null,
      "metadata": {
        "id": "kUzw5G27olQ2"
      },
      "outputs": [],
      "source": [
        "result = soup.find_all('li', {'class':'SearchResultsList__WideCell-b7y9ki-2'})"
      ]
    },
    {
      "cell_type": "code",
      "execution_count": null,
      "metadata": {
        "colab": {
          "base_uri": "https://localhost:8080/"
        },
        "id": "1SjIyC6colQ4",
        "outputId": "84c167b2-323f-48ca-b29b-6a928e35d142"
      },
      "outputs": [
        {
          "output_type": "execute_result",
          "data": {
            "text/plain": [
              "42"
            ]
          },
          "metadata": {},
          "execution_count": 8
        }
      ],
      "source": [
        "len(result)"
      ]
    },
    {
      "cell_type": "code",
      "execution_count": null,
      "metadata": {
        "id": "vWwKHkTJolQ5"
      },
      "outputs": [],
      "source": [
        ""
      ]
    },
    {
      "cell_type": "markdown",
      "metadata": {
        "id": "fAMXQFkcolQ5"
      },
      "source": [
        "### Update Results"
      ]
    },
    {
      "cell_type": "markdown",
      "metadata": {
        "id": "j-jhzKIzolQ5"
      },
      "source": [
        "we just want to target the elements which have the attribute 'data-testid'"
      ]
    },
    {
      "cell_type": "code",
      "execution_count": null,
      "metadata": {
        "id": "tMzvRc2_olQ5"
      },
      "outputs": [],
      "source": [
        "results_update = []"
      ]
    },
    {
      "cell_type": "code",
      "execution_count": null,
      "metadata": {
        "id": "cBRGcouaolQ6"
      },
      "outputs": [],
      "source": [
        "for r in result:\n",
        "  if r.has_attr('data-testid'):\n",
        "    results_update.append(r)"
      ]
    },
    {
      "cell_type": "code",
      "execution_count": null,
      "metadata": {
        "colab": {
          "base_uri": "https://localhost:8080/"
        },
        "id": "Xy1DdhB1olQ6",
        "outputId": "89229a3e-5cc1-475a-aa46-5fd96a048f88"
      },
      "outputs": [
        {
          "output_type": "execute_result",
          "data": {
            "text/plain": [
              "40"
            ]
          },
          "metadata": {},
          "execution_count": 12
        }
      ],
      "source": [
        "len(results_update)"
      ]
    },
    {
      "cell_type": "code",
      "execution_count": null,
      "metadata": {
        "id": "VLmCKNvGolQ6"
      },
      "outputs": [],
      "source": [
        ""
      ]
    },
    {
      "cell_type": "markdown",
      "metadata": {
        "id": "DDLixzjLolQ8"
      },
      "source": [
        "### Target necessary data"
      ]
    },
    {
      "cell_type": "code",
      "execution_count": null,
      "metadata": {
        "id": "l9COTqV1olQ9"
      },
      "outputs": [],
      "source": [
        "# Address\n",
        "# Bedrooms\n",
        "# Bathrooms\n",
        "# Price"
      ]
    },
    {
      "cell_type": "markdown",
      "metadata": {
        "id": "1iWUvKNzolQ-"
      },
      "source": [
        "#### Address"
      ]
    },
    {
      "cell_type": "code",
      "execution_count": null,
      "metadata": {
        "colab": {
          "base_uri": "https://localhost:8080/",
          "height": 36
        },
        "id": "1BA2Jd9rolQ-",
        "outputId": "6f1a7320-d47a-4f08-e07a-ec961e481e0b"
      },
      "outputs": [
        {
          "output_type": "execute_result",
          "data": {
            "text/plain": [
              "'345 Twin Peaks Blvd, San Francisco, CA 94114'"
            ],
            "application/vnd.google.colaboratory.intrinsic+json": {
              "type": "string"
            }
          },
          "metadata": {},
          "execution_count": 37
        }
      ],
      "source": [
        "results_update[9].find('div', {'data-testid':'property-address'}).get_text()"
      ]
    },
    {
      "cell_type": "markdown",
      "metadata": {
        "id": "yhC6RiI2olQ-"
      },
      "source": [
        "#### Bedrooms"
      ]
    },
    {
      "cell_type": "code",
      "execution_count": null,
      "metadata": {
        "colab": {
          "base_uri": "https://localhost:8080/",
          "height": 36
        },
        "id": "TGVwxYJholQ_",
        "outputId": "396714c3-9c7d-4d2b-c6a3-24fa67e900fb"
      },
      "outputs": [
        {
          "output_type": "execute_result",
          "data": {
            "text/plain": [
              "'5bd'"
            ],
            "application/vnd.google.colaboratory.intrinsic+json": {
              "type": "string"
            }
          },
          "metadata": {},
          "execution_count": 36
        }
      ],
      "source": [
        "results_update[9].find('div', {'data-testid':'property-beds'}).get_text()"
      ]
    },
    {
      "cell_type": "markdown",
      "metadata": {
        "id": "o3vFYvmsolQ_"
      },
      "source": [
        "#### Bathrooms"
      ]
    },
    {
      "cell_type": "code",
      "execution_count": null,
      "metadata": {
        "colab": {
          "base_uri": "https://localhost:8080/",
          "height": 36
        },
        "id": "N_ckOCf9olQ_",
        "outputId": "ba6b1578-4e25-4592-d865-4758f705fefb"
      },
      "outputs": [
        {
          "output_type": "execute_result",
          "data": {
            "text/plain": [
              "'4ba'"
            ],
            "application/vnd.google.colaboratory.intrinsic+json": {
              "type": "string"
            }
          },
          "metadata": {},
          "execution_count": 52
        }
      ],
      "source": [
        "results_update[9].find('div', {'data-testid':'property-baths'}).get_text()"
      ]
    },
    {
      "cell_type": "markdown",
      "metadata": {
        "id": "me4jpzqRolQ_"
      },
      "source": [
        "#### Price"
      ]
    },
    {
      "cell_type": "code",
      "execution_count": null,
      "metadata": {
        "colab": {
          "base_uri": "https://localhost:8080/",
          "height": 36
        },
        "id": "dr_2HJ3xolRA",
        "outputId": "cfb53095-0f02-4dcc-f179-99dd652e6a5c"
      },
      "outputs": [
        {
          "output_type": "execute_result",
          "data": {
            "text/plain": [
              "'$5,500,000'"
            ],
            "application/vnd.google.colaboratory.intrinsic+json": {
              "type": "string"
            }
          },
          "metadata": {},
          "execution_count": 41
        }
      ],
      "source": [
        "results_update[9].find('div', {'data-testid':'property-price'}).get_text()"
      ]
    },
    {
      "cell_type": "code",
      "execution_count": null,
      "metadata": {
        "id": "cvzOrZw1olRA"
      },
      "outputs": [],
      "source": [
        ""
      ]
    },
    {
      "cell_type": "markdown",
      "metadata": {
        "id": "6SgJu-jqolRA"
      },
      "source": [
        "### Append all Results in Lists with List Comprehension"
      ]
    },
    {
      "cell_type": "code",
      "execution_count": null,
      "metadata": {
        "id": "Zs3EI23MolRA"
      },
      "outputs": [],
      "source": [
        "addresses =[result.find('div', {'data-testid':'property-address'}).get_text() for result in results_update]\n",
        "beds =[result.find('div', {'data-testid':'property-beds'}).get_text() for result in results_update]\n",
        "# baths =[result.find('div', {'data-testid':'property-baths'}).get_text() for result in results_update]\n",
        "prices =[result.find('div', {'data-testid':'property-price'}).get_text() for result in results_update]"
      ]
    },
    {
      "cell_type": "code",
      "execution_count": null,
      "metadata": {
        "colab": {
          "base_uri": "https://localhost:8080/"
        },
        "id": "-yCE6dmsolRA",
        "outputId": "a4c5da33-1a70-44e6-d9d5-ccfaba9551b0"
      },
      "outputs": [
        {
          "output_type": "execute_result",
          "data": {
            "text/plain": [
              "40"
            ]
          },
          "metadata": {},
          "execution_count": 48
        }
      ],
      "source": [
        "len(prices)"
      ]
    },
    {
      "cell_type": "markdown",
      "metadata": {
        "id": "Tjn1DKanolRB"
      },
      "source": [
        "### Create Pandas Dataframe"
      ]
    },
    {
      "cell_type": "code",
      "execution_count": null,
      "metadata": {
        "id": "UKN48nh9olRB"
      },
      "outputs": [],
      "source": [
        "real_estate = pd.DataFrame({'Address':addresses, 'Bedrooms':beds, 'Price':prices})"
      ]
    },
    {
      "cell_type": "code",
      "execution_count": null,
      "metadata": {
        "colab": {
          "base_uri": "https://localhost:8080/",
          "height": 1000
        },
        "id": "vJEuyO8golRB",
        "outputId": "8c4e86ab-a4b8-4287-c9f4-b4ff59e83424"
      },
      "outputs": [
        {
          "output_type": "execute_result",
          "data": {
            "text/plain": [
              "                                              Address Bedrooms       Price\n",
              "0                61 Grace St, San Francisco, CA 94103      3bd    $799,000\n",
              "1               816 Paris St, San Francisco, CA 94112      3bd    $998,000\n",
              "2         555 Fulton St #509, San Francisco, CA 94102      1bd    $885,000\n",
              "3              443 Waller St, San Francisco, CA 94117      4bd  $1,495,000\n",
              "4          2655 Bush St #321, San Francisco, CA 94115      2bd  $1,250,000\n",
              "5        1075 Market St #501, San Francisco, CA 94103   Studio    $549,000\n",
              "6               4015 25th St, San Francisco, CA 94114      3bd  $2,500,000\n",
              "7             156 Everson St, San Francisco, CA 94131      2bd  $1,380,000\n",
              "8          3136 Fulton St #1, San Francisco, CA 94118      4bd  $1,775,000\n",
              "9        345 Twin Peaks Blvd, San Francisco, CA 94114      5bd  $5,500,000\n",
              "10              701 Paris St, San Francisco, CA 94112      9bd  $1,395,000\n",
              "11  5320 Diamond Heights Blvd #108K, San Francisco...      1bd    $695,000\n",
              "12            1360 Fulton St, San Francisco, CA 94117      3bd  $1,650,000\n",
              "13        1415 San Bruno Ave, San Francisco, CA 94110      3bd    $999,000\n",
              "14     1415 San Bruno Ave #A, San Francisco, CA 94110      2bd    $899,000\n",
              "15        2943 Washington St, San Francisco, CA 94115      3bd  $2,095,000\n",
              "16             1954 17th Ave, San Francisco, CA 94116      2bd  $1,652,000\n",
              "17        3938 Washington St, San Francisco, CA 94118      3bd  $3,199,000\n",
              "18           340 Ritch St #5, San Francisco, CA 94107      1bd  $1,129,000\n",
              "19         802 Arguello Blvd, San Francisco, CA 94118      3bd  $1,449,000\n",
              "20            473 Chenery St, San Francisco, CA 94131      5bd  $3,599,000\n",
              "21          1000 3rd St #605, San Francisco, CA 94158      2bd  $1,599,000\n",
              "22          685 Lakeview Ave, San Francisco, CA 94112      3bd  $1,195,000\n",
              "23        416 Bosworth St #A, San Francisco, CA 94112      3bd  $1,450,000\n",
              "24        8 Buchanan St #503, San Francisco, CA 94102      1bd    $775,000\n",
              "25          674 Castro St #A, San Francisco, CA 94114      3bd  $1,095,000\n",
              "26           8 Aquavista Way, San Francisco, CA 94131      3bd  $1,250,000\n",
              "27       451 Donahue St #506, San Francisco, CA 94124      2bd    $725,000\n",
              "28      268-272 Fair Oaks St, San Francisco, CA 94110      4bd  $1,850,000\n",
              "29              1250 Pine St, San Francisco, CA 94109   Studio  $3,150,000\n",
              "30        348 Church St #102, San Francisco, CA 94114      2bd  $1,295,000\n",
              "31       108 San Jose Ave #3, San Francisco, CA 94110      3bd  $1,425,000\n",
              "32         255 Goettingen St, San Francisco, CA 94134      1bd    $548,000\n",
              "33       45 Bartlett St #301, San Francisco, CA 94110      2bd  $1,325,000\n",
              "34        200 Townsend St #9, San Francisco, CA 94107      1bd    $999,000\n",
              "35      342 Arkansas St #501, San Francisco, CA 94107      2bd  $1,295,000\n",
              "36      1400 Mission St #406, San Francisco, CA 94103      1bd    $363,130\n",
              "37            1161 Church St, San Francisco, CA 94114      2bd  $1,195,000\n",
              "38           355 1st St #404, San Francisco, CA 94105      2bd  $1,199,000\n",
              "39             146 A 27th St, San Francisco, CA 94110      3bd  $1,395,000"
            ],
            "text/html": [
              "\n",
              "  <div id=\"df-3529ee61-03bb-4663-b66a-e27b25ca73e1\">\n",
              "    <div class=\"colab-df-container\">\n",
              "      <div>\n",
              "<style scoped>\n",
              "    .dataframe tbody tr th:only-of-type {\n",
              "        vertical-align: middle;\n",
              "    }\n",
              "\n",
              "    .dataframe tbody tr th {\n",
              "        vertical-align: top;\n",
              "    }\n",
              "\n",
              "    .dataframe thead th {\n",
              "        text-align: right;\n",
              "    }\n",
              "</style>\n",
              "<table border=\"1\" class=\"dataframe\">\n",
              "  <thead>\n",
              "    <tr style=\"text-align: right;\">\n",
              "      <th></th>\n",
              "      <th>Address</th>\n",
              "      <th>Bedrooms</th>\n",
              "      <th>Price</th>\n",
              "    </tr>\n",
              "  </thead>\n",
              "  <tbody>\n",
              "    <tr>\n",
              "      <th>0</th>\n",
              "      <td>61 Grace St, San Francisco, CA 94103</td>\n",
              "      <td>3bd</td>\n",
              "      <td>$799,000</td>\n",
              "    </tr>\n",
              "    <tr>\n",
              "      <th>1</th>\n",
              "      <td>816 Paris St, San Francisco, CA 94112</td>\n",
              "      <td>3bd</td>\n",
              "      <td>$998,000</td>\n",
              "    </tr>\n",
              "    <tr>\n",
              "      <th>2</th>\n",
              "      <td>555 Fulton St #509, San Francisco, CA 94102</td>\n",
              "      <td>1bd</td>\n",
              "      <td>$885,000</td>\n",
              "    </tr>\n",
              "    <tr>\n",
              "      <th>3</th>\n",
              "      <td>443 Waller St, San Francisco, CA 94117</td>\n",
              "      <td>4bd</td>\n",
              "      <td>$1,495,000</td>\n",
              "    </tr>\n",
              "    <tr>\n",
              "      <th>4</th>\n",
              "      <td>2655 Bush St #321, San Francisco, CA 94115</td>\n",
              "      <td>2bd</td>\n",
              "      <td>$1,250,000</td>\n",
              "    </tr>\n",
              "    <tr>\n",
              "      <th>5</th>\n",
              "      <td>1075 Market St #501, San Francisco, CA 94103</td>\n",
              "      <td>Studio</td>\n",
              "      <td>$549,000</td>\n",
              "    </tr>\n",
              "    <tr>\n",
              "      <th>6</th>\n",
              "      <td>4015 25th St, San Francisco, CA 94114</td>\n",
              "      <td>3bd</td>\n",
              "      <td>$2,500,000</td>\n",
              "    </tr>\n",
              "    <tr>\n",
              "      <th>7</th>\n",
              "      <td>156 Everson St, San Francisco, CA 94131</td>\n",
              "      <td>2bd</td>\n",
              "      <td>$1,380,000</td>\n",
              "    </tr>\n",
              "    <tr>\n",
              "      <th>8</th>\n",
              "      <td>3136 Fulton St #1, San Francisco, CA 94118</td>\n",
              "      <td>4bd</td>\n",
              "      <td>$1,775,000</td>\n",
              "    </tr>\n",
              "    <tr>\n",
              "      <th>9</th>\n",
              "      <td>345 Twin Peaks Blvd, San Francisco, CA 94114</td>\n",
              "      <td>5bd</td>\n",
              "      <td>$5,500,000</td>\n",
              "    </tr>\n",
              "    <tr>\n",
              "      <th>10</th>\n",
              "      <td>701 Paris St, San Francisco, CA 94112</td>\n",
              "      <td>9bd</td>\n",
              "      <td>$1,395,000</td>\n",
              "    </tr>\n",
              "    <tr>\n",
              "      <th>11</th>\n",
              "      <td>5320 Diamond Heights Blvd #108K, San Francisco...</td>\n",
              "      <td>1bd</td>\n",
              "      <td>$695,000</td>\n",
              "    </tr>\n",
              "    <tr>\n",
              "      <th>12</th>\n",
              "      <td>1360 Fulton St, San Francisco, CA 94117</td>\n",
              "      <td>3bd</td>\n",
              "      <td>$1,650,000</td>\n",
              "    </tr>\n",
              "    <tr>\n",
              "      <th>13</th>\n",
              "      <td>1415 San Bruno Ave, San Francisco, CA 94110</td>\n",
              "      <td>3bd</td>\n",
              "      <td>$999,000</td>\n",
              "    </tr>\n",
              "    <tr>\n",
              "      <th>14</th>\n",
              "      <td>1415 San Bruno Ave #A, San Francisco, CA 94110</td>\n",
              "      <td>2bd</td>\n",
              "      <td>$899,000</td>\n",
              "    </tr>\n",
              "    <tr>\n",
              "      <th>15</th>\n",
              "      <td>2943 Washington St, San Francisco, CA 94115</td>\n",
              "      <td>3bd</td>\n",
              "      <td>$2,095,000</td>\n",
              "    </tr>\n",
              "    <tr>\n",
              "      <th>16</th>\n",
              "      <td>1954 17th Ave, San Francisco, CA 94116</td>\n",
              "      <td>2bd</td>\n",
              "      <td>$1,652,000</td>\n",
              "    </tr>\n",
              "    <tr>\n",
              "      <th>17</th>\n",
              "      <td>3938 Washington St, San Francisco, CA 94118</td>\n",
              "      <td>3bd</td>\n",
              "      <td>$3,199,000</td>\n",
              "    </tr>\n",
              "    <tr>\n",
              "      <th>18</th>\n",
              "      <td>340 Ritch St #5, San Francisco, CA 94107</td>\n",
              "      <td>1bd</td>\n",
              "      <td>$1,129,000</td>\n",
              "    </tr>\n",
              "    <tr>\n",
              "      <th>19</th>\n",
              "      <td>802 Arguello Blvd, San Francisco, CA 94118</td>\n",
              "      <td>3bd</td>\n",
              "      <td>$1,449,000</td>\n",
              "    </tr>\n",
              "    <tr>\n",
              "      <th>20</th>\n",
              "      <td>473 Chenery St, San Francisco, CA 94131</td>\n",
              "      <td>5bd</td>\n",
              "      <td>$3,599,000</td>\n",
              "    </tr>\n",
              "    <tr>\n",
              "      <th>21</th>\n",
              "      <td>1000 3rd St #605, San Francisco, CA 94158</td>\n",
              "      <td>2bd</td>\n",
              "      <td>$1,599,000</td>\n",
              "    </tr>\n",
              "    <tr>\n",
              "      <th>22</th>\n",
              "      <td>685 Lakeview Ave, San Francisco, CA 94112</td>\n",
              "      <td>3bd</td>\n",
              "      <td>$1,195,000</td>\n",
              "    </tr>\n",
              "    <tr>\n",
              "      <th>23</th>\n",
              "      <td>416 Bosworth St #A, San Francisco, CA 94112</td>\n",
              "      <td>3bd</td>\n",
              "      <td>$1,450,000</td>\n",
              "    </tr>\n",
              "    <tr>\n",
              "      <th>24</th>\n",
              "      <td>8 Buchanan St #503, San Francisco, CA 94102</td>\n",
              "      <td>1bd</td>\n",
              "      <td>$775,000</td>\n",
              "    </tr>\n",
              "    <tr>\n",
              "      <th>25</th>\n",
              "      <td>674 Castro St #A, San Francisco, CA 94114</td>\n",
              "      <td>3bd</td>\n",
              "      <td>$1,095,000</td>\n",
              "    </tr>\n",
              "    <tr>\n",
              "      <th>26</th>\n",
              "      <td>8 Aquavista Way, San Francisco, CA 94131</td>\n",
              "      <td>3bd</td>\n",
              "      <td>$1,250,000</td>\n",
              "    </tr>\n",
              "    <tr>\n",
              "      <th>27</th>\n",
              "      <td>451 Donahue St #506, San Francisco, CA 94124</td>\n",
              "      <td>2bd</td>\n",
              "      <td>$725,000</td>\n",
              "    </tr>\n",
              "    <tr>\n",
              "      <th>28</th>\n",
              "      <td>268-272 Fair Oaks St, San Francisco, CA 94110</td>\n",
              "      <td>4bd</td>\n",
              "      <td>$1,850,000</td>\n",
              "    </tr>\n",
              "    <tr>\n",
              "      <th>29</th>\n",
              "      <td>1250 Pine St, San Francisco, CA 94109</td>\n",
              "      <td>Studio</td>\n",
              "      <td>$3,150,000</td>\n",
              "    </tr>\n",
              "    <tr>\n",
              "      <th>30</th>\n",
              "      <td>348 Church St #102, San Francisco, CA 94114</td>\n",
              "      <td>2bd</td>\n",
              "      <td>$1,295,000</td>\n",
              "    </tr>\n",
              "    <tr>\n",
              "      <th>31</th>\n",
              "      <td>108 San Jose Ave #3, San Francisco, CA 94110</td>\n",
              "      <td>3bd</td>\n",
              "      <td>$1,425,000</td>\n",
              "    </tr>\n",
              "    <tr>\n",
              "      <th>32</th>\n",
              "      <td>255 Goettingen St, San Francisco, CA 94134</td>\n",
              "      <td>1bd</td>\n",
              "      <td>$548,000</td>\n",
              "    </tr>\n",
              "    <tr>\n",
              "      <th>33</th>\n",
              "      <td>45 Bartlett St #301, San Francisco, CA 94110</td>\n",
              "      <td>2bd</td>\n",
              "      <td>$1,325,000</td>\n",
              "    </tr>\n",
              "    <tr>\n",
              "      <th>34</th>\n",
              "      <td>200 Townsend St #9, San Francisco, CA 94107</td>\n",
              "      <td>1bd</td>\n",
              "      <td>$999,000</td>\n",
              "    </tr>\n",
              "    <tr>\n",
              "      <th>35</th>\n",
              "      <td>342 Arkansas St #501, San Francisco, CA 94107</td>\n",
              "      <td>2bd</td>\n",
              "      <td>$1,295,000</td>\n",
              "    </tr>\n",
              "    <tr>\n",
              "      <th>36</th>\n",
              "      <td>1400 Mission St #406, San Francisco, CA 94103</td>\n",
              "      <td>1bd</td>\n",
              "      <td>$363,130</td>\n",
              "    </tr>\n",
              "    <tr>\n",
              "      <th>37</th>\n",
              "      <td>1161 Church St, San Francisco, CA 94114</td>\n",
              "      <td>2bd</td>\n",
              "      <td>$1,195,000</td>\n",
              "    </tr>\n",
              "    <tr>\n",
              "      <th>38</th>\n",
              "      <td>355 1st St #404, San Francisco, CA 94105</td>\n",
              "      <td>2bd</td>\n",
              "      <td>$1,199,000</td>\n",
              "    </tr>\n",
              "    <tr>\n",
              "      <th>39</th>\n",
              "      <td>146 A 27th St, San Francisco, CA 94110</td>\n",
              "      <td>3bd</td>\n",
              "      <td>$1,395,000</td>\n",
              "    </tr>\n",
              "  </tbody>\n",
              "</table>\n",
              "</div>\n",
              "      <button class=\"colab-df-convert\" onclick=\"convertToInteractive('df-3529ee61-03bb-4663-b66a-e27b25ca73e1')\"\n",
              "              title=\"Convert this dataframe to an interactive table.\"\n",
              "              style=\"display:none;\">\n",
              "        \n",
              "  <svg xmlns=\"http://www.w3.org/2000/svg\" height=\"24px\"viewBox=\"0 0 24 24\"\n",
              "       width=\"24px\">\n",
              "    <path d=\"M0 0h24v24H0V0z\" fill=\"none\"/>\n",
              "    <path d=\"M18.56 5.44l.94 2.06.94-2.06 2.06-.94-2.06-.94-.94-2.06-.94 2.06-2.06.94zm-11 1L8.5 8.5l.94-2.06 2.06-.94-2.06-.94L8.5 2.5l-.94 2.06-2.06.94zm10 10l.94 2.06.94-2.06 2.06-.94-2.06-.94-.94-2.06-.94 2.06-2.06.94z\"/><path d=\"M17.41 7.96l-1.37-1.37c-.4-.4-.92-.59-1.43-.59-.52 0-1.04.2-1.43.59L10.3 9.45l-7.72 7.72c-.78.78-.78 2.05 0 2.83L4 21.41c.39.39.9.59 1.41.59.51 0 1.02-.2 1.41-.59l7.78-7.78 2.81-2.81c.8-.78.8-2.07 0-2.86zM5.41 20L4 18.59l7.72-7.72 1.47 1.35L5.41 20z\"/>\n",
              "  </svg>\n",
              "      </button>\n",
              "      \n",
              "  <style>\n",
              "    .colab-df-container {\n",
              "      display:flex;\n",
              "      flex-wrap:wrap;\n",
              "      gap: 12px;\n",
              "    }\n",
              "\n",
              "    .colab-df-convert {\n",
              "      background-color: #E8F0FE;\n",
              "      border: none;\n",
              "      border-radius: 50%;\n",
              "      cursor: pointer;\n",
              "      display: none;\n",
              "      fill: #1967D2;\n",
              "      height: 32px;\n",
              "      padding: 0 0 0 0;\n",
              "      width: 32px;\n",
              "    }\n",
              "\n",
              "    .colab-df-convert:hover {\n",
              "      background-color: #E2EBFA;\n",
              "      box-shadow: 0px 1px 2px rgba(60, 64, 67, 0.3), 0px 1px 3px 1px rgba(60, 64, 67, 0.15);\n",
              "      fill: #174EA6;\n",
              "    }\n",
              "\n",
              "    [theme=dark] .colab-df-convert {\n",
              "      background-color: #3B4455;\n",
              "      fill: #D2E3FC;\n",
              "    }\n",
              "\n",
              "    [theme=dark] .colab-df-convert:hover {\n",
              "      background-color: #434B5C;\n",
              "      box-shadow: 0px 1px 3px 1px rgba(0, 0, 0, 0.15);\n",
              "      filter: drop-shadow(0px 1px 2px rgba(0, 0, 0, 0.3));\n",
              "      fill: #FFFFFF;\n",
              "    }\n",
              "  </style>\n",
              "\n",
              "      <script>\n",
              "        const buttonEl =\n",
              "          document.querySelector('#df-3529ee61-03bb-4663-b66a-e27b25ca73e1 button.colab-df-convert');\n",
              "        buttonEl.style.display =\n",
              "          google.colab.kernel.accessAllowed ? 'block' : 'none';\n",
              "\n",
              "        async function convertToInteractive(key) {\n",
              "          const element = document.querySelector('#df-3529ee61-03bb-4663-b66a-e27b25ca73e1');\n",
              "          const dataTable =\n",
              "            await google.colab.kernel.invokeFunction('convertToInteractive',\n",
              "                                                     [key], {});\n",
              "          if (!dataTable) return;\n",
              "\n",
              "          const docLinkHtml = 'Like what you see? Visit the ' +\n",
              "            '<a target=\"_blank\" href=https://colab.research.google.com/notebooks/data_table.ipynb>data table notebook</a>'\n",
              "            + ' to learn more about interactive tables.';\n",
              "          element.innerHTML = '';\n",
              "          dataTable['output_type'] = 'display_data';\n",
              "          await google.colab.output.renderOutput(dataTable, element);\n",
              "          const docLink = document.createElement('div');\n",
              "          docLink.innerHTML = docLinkHtml;\n",
              "          element.appendChild(docLink);\n",
              "        }\n",
              "      </script>\n",
              "    </div>\n",
              "  </div>\n",
              "  "
            ]
          },
          "metadata": {},
          "execution_count": 58
        }
      ],
      "source": [
        "real_estate"
      ]
    },
    {
      "cell_type": "code",
      "execution_count": null,
      "metadata": {
        "id": "qjB1B9WDolRB"
      },
      "outputs": [],
      "source": [
        ""
      ]
    },
    {
      "cell_type": "markdown",
      "metadata": {
        "id": "ZXQZGvHpolRC"
      },
      "source": [
        "### Output in Excel"
      ]
    },
    {
      "cell_type": "code",
      "execution_count": null,
      "metadata": {
        "id": "5Y-gT43oolRC"
      },
      "outputs": [],
      "source": [
        "real_estate.to_excel('real_estate_page_1.xlsx', index=False)"
      ]
    }
  ],
  "metadata": {
    "kernelspec": {
      "display_name": "Python 3",
      "language": "python",
      "name": "python3"
    },
    "language_info": {
      "codemirror_mode": {
        "name": "ipython",
        "version": 3
      },
      "file_extension": ".py",
      "mimetype": "text/x-python",
      "name": "python",
      "nbconvert_exporter": "python",
      "pygments_lexer": "ipython3",
      "version": "3.9.2"
    },
    "colab": {
      "name": "Project_2_Intermediate_Part1.ipynb",
      "provenance": [],
      "include_colab_link": true
    }
  },
  "nbformat": 4,
  "nbformat_minor": 0
}