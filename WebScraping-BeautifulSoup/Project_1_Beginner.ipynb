{
  "cells": [
    {
      "cell_type": "markdown",
      "metadata": {
        "id": "view-in-github",
        "colab_type": "text"
      },
      "source": [
        "<a href=\"https://colab.research.google.com/github/prasetyofmalik/google-colab/blob/main/WebScraping-BeautifulSoup/Project_1_Beginner.ipynb\" target=\"_parent\"><img src=\"https://colab.research.google.com/assets/colab-badge.svg\" alt=\"Open In Colab\"/></a>"
      ]
    },
    {
      "cell_type": "markdown",
      "metadata": {
        "id": "RBH66BiOtAbg"
      },
      "source": [
        "### Imports"
      ]
    },
    {
      "cell_type": "code",
      "execution_count": null,
      "metadata": {
        "id": "7_3g87PwtAbm"
      },
      "outputs": [],
      "source": [
        "from bs4 import BeautifulSoup\n",
        "import requests\n",
        "import pandas as pd"
      ]
    },
    {
      "cell_type": "markdown",
      "metadata": {
        "id": "iLvB7Jb7tAbn"
      },
      "source": [
        "### HTTP Request"
      ]
    },
    {
      "cell_type": "markdown",
      "metadata": {
        "id": "tmKq0EostAbo"
      },
      "source": [
        "#### store website in variable"
      ]
    },
    {
      "cell_type": "code",
      "execution_count": null,
      "metadata": {
        "id": "wYQPfzf6tAbp"
      },
      "outputs": [],
      "source": [
        "website = 'http://books.toscrape.com/'"
      ]
    },
    {
      "cell_type": "markdown",
      "metadata": {
        "id": "yuNhx3DQtAbp"
      },
      "source": [
        "#### Get Request"
      ]
    },
    {
      "cell_type": "code",
      "execution_count": null,
      "metadata": {
        "id": "6Cf8uK3NtAbq"
      },
      "outputs": [],
      "source": [
        "response = requests.get(website)"
      ]
    },
    {
      "cell_type": "markdown",
      "metadata": {
        "id": "V36pbDh0tAbq"
      },
      "source": [
        "#### Status Code"
      ]
    },
    {
      "cell_type": "code",
      "execution_count": null,
      "metadata": {
        "colab": {
          "base_uri": "https://localhost:8080/"
        },
        "id": "1wR_fxD8tAbr",
        "outputId": "6080e21d-0541-4b35-db0c-d91ca73eb8a9"
      },
      "outputs": [
        {
          "output_type": "execute_result",
          "data": {
            "text/plain": [
              "200"
            ]
          },
          "metadata": {},
          "execution_count": 4
        }
      ],
      "source": [
        "response.status_code"
      ]
    },
    {
      "cell_type": "markdown",
      "metadata": {
        "id": "l-Eb55ZYtAbs"
      },
      "source": [
        "### Soup Object"
      ]
    },
    {
      "cell_type": "code",
      "execution_count": null,
      "metadata": {
        "id": "u4zBQnh2tAbt"
      },
      "outputs": [],
      "source": [
        "soup = BeautifulSoup(response.content, 'html.parser')"
      ]
    },
    {
      "cell_type": "code",
      "execution_count": null,
      "metadata": {
        "id": "TxaQCmdttAbu"
      },
      "outputs": [],
      "source": [
        "# soup"
      ]
    },
    {
      "cell_type": "markdown",
      "metadata": {
        "id": "h4gx1nzgtAbu"
      },
      "source": [
        "### Results"
      ]
    },
    {
      "cell_type": "code",
      "execution_count": null,
      "metadata": {
        "id": "at1jDiOttAbv"
      },
      "outputs": [],
      "source": [
        "results = soup.find_all('li', {'class':'col-xs-6'})"
      ]
    },
    {
      "cell_type": "code",
      "execution_count": null,
      "metadata": {
        "colab": {
          "base_uri": "https://localhost:8080/"
        },
        "id": "PdiYfOLdtAbv",
        "outputId": "88ae3826-753a-454d-f6d5-3fc47eeca74e"
      },
      "outputs": [
        {
          "output_type": "execute_result",
          "data": {
            "text/plain": [
              "20"
            ]
          },
          "metadata": {},
          "execution_count": 24
        }
      ],
      "source": [
        "len(results)"
      ]
    },
    {
      "cell_type": "code",
      "execution_count": null,
      "metadata": {
        "id": "yz_-Wmn3tAbv"
      },
      "outputs": [],
      "source": [
        "# first entry\n",
        "product = results[0]"
      ]
    },
    {
      "cell_type": "markdown",
      "metadata": {
        "id": "FYBdnsnwtAbw"
      },
      "source": [
        "#### Product Title"
      ]
    },
    {
      "cell_type": "code",
      "execution_count": null,
      "metadata": {
        "colab": {
          "base_uri": "https://localhost:8080/",
          "height": 35
        },
        "id": "kNvsbrhktAbw",
        "outputId": "71c1195c-99fe-406b-809b-ade4b76b6c6c"
      },
      "outputs": [
        {
          "output_type": "execute_result",
          "data": {
            "application/vnd.google.colaboratory.intrinsic+json": {
              "type": "string"
            },
            "text/plain": [
              "'A Light in the ...'"
            ]
          },
          "metadata": {},
          "execution_count": 13
        }
      ],
      "source": [
        "# get text function\n",
        "product.find('h3').find('a').get_text()"
      ]
    },
    {
      "cell_type": "code",
      "execution_count": null,
      "metadata": {
        "colab": {
          "base_uri": "https://localhost:8080/",
          "height": 35
        },
        "id": "_Pofv553tAbx",
        "outputId": "a2514a4d-d471-431f-fbc9-a539757d2207"
      },
      "outputs": [
        {
          "output_type": "execute_result",
          "data": {
            "application/vnd.google.colaboratory.intrinsic+json": {
              "type": "string"
            },
            "text/plain": [
              "'A Light in the Attic'"
            ]
          },
          "metadata": {},
          "execution_count": 15
        }
      ],
      "source": [
        "product.find('h3').find('a').get('title')"
      ]
    },
    {
      "cell_type": "markdown",
      "metadata": {
        "id": "hWOF1JeltAbx"
      },
      "source": [
        "#### Product Price"
      ]
    },
    {
      "cell_type": "code",
      "execution_count": null,
      "metadata": {
        "colab": {
          "base_uri": "https://localhost:8080/",
          "height": 35
        },
        "id": "MLagZoTPtAby",
        "outputId": "11168ffa-40c6-4c65-9115-88436b6b431a"
      },
      "outputs": [
        {
          "output_type": "execute_result",
          "data": {
            "application/vnd.google.colaboratory.intrinsic+json": {
              "type": "string"
            },
            "text/plain": [
              "'£51.77'"
            ]
          },
          "metadata": {},
          "execution_count": 17
        }
      ],
      "source": [
        "product.find('p', {'class':'price_color'}).get_text()"
      ]
    },
    {
      "cell_type": "markdown",
      "metadata": {
        "id": "pMEeE7j4tAbz"
      },
      "source": [
        "#### Availability"
      ]
    },
    {
      "cell_type": "code",
      "execution_count": null,
      "metadata": {
        "colab": {
          "base_uri": "https://localhost:8080/",
          "height": 35
        },
        "id": "TbUEuRq2tAbz",
        "outputId": "2e8a52bd-6f6f-489d-92b6-f39ac06c2979"
      },
      "outputs": [
        {
          "output_type": "execute_result",
          "data": {
            "application/vnd.google.colaboratory.intrinsic+json": {
              "type": "string"
            },
            "text/plain": [
              "'In stock'"
            ]
          },
          "metadata": {},
          "execution_count": 20
        }
      ],
      "source": [
        "product.find('p', {'class':'instock availability'}).get_text().strip()"
      ]
    },
    {
      "cell_type": "code",
      "execution_count": null,
      "metadata": {
        "id": "yH5XmknZtAb0"
      },
      "outputs": [],
      "source": [
        ""
      ]
    },
    {
      "cell_type": "markdown",
      "metadata": {
        "id": "z8hgC9fQtAb0"
      },
      "source": [
        "### Create List and append our results (For Loop)"
      ]
    },
    {
      "cell_type": "markdown",
      "metadata": {
        "id": "zIhuMLANtAb0"
      },
      "source": [
        "#### Name"
      ]
    },
    {
      "cell_type": "code",
      "execution_count": null,
      "metadata": {
        "id": "b8axlkCVtAb1"
      },
      "outputs": [],
      "source": [
        "# option no.1 list comprehension\n",
        "book_name = [result.find('h3').find('a').get('title') for result in results]"
      ]
    },
    {
      "cell_type": "code",
      "execution_count": null,
      "metadata": {
        "colab": {
          "base_uri": "https://localhost:8080/"
        },
        "id": "aIIyzn_ItAb1",
        "outputId": "8b5ab6e9-4d4d-4758-b2b1-700c6adda149"
      },
      "outputs": [
        {
          "output_type": "execute_result",
          "data": {
            "text/plain": [
              "['A Light in the Attic',\n",
              " 'Tipping the Velvet',\n",
              " 'Soumission',\n",
              " 'Sharp Objects',\n",
              " 'Sapiens: A Brief History of Humankind',\n",
              " 'The Requiem Red',\n",
              " 'The Dirty Little Secrets of Getting Your Dream Job',\n",
              " 'The Coming Woman: A Novel Based on the Life of the Infamous Feminist, Victoria Woodhull',\n",
              " 'The Boys in the Boat: Nine Americans and Their Epic Quest for Gold at the 1936 Berlin Olympics',\n",
              " 'The Black Maria',\n",
              " 'Starving Hearts (Triangular Trade Trilogy, #1)',\n",
              " \"Shakespeare's Sonnets\",\n",
              " 'Set Me Free',\n",
              " \"Scott Pilgrim's Precious Little Life (Scott Pilgrim #1)\",\n",
              " 'Rip it Up and Start Again',\n",
              " 'Our Band Could Be Your Life: Scenes from the American Indie Underground, 1981-1991',\n",
              " 'Olio',\n",
              " 'Mesaerion: The Best Science Fiction Stories 1800-1849',\n",
              " 'Libertarianism for Beginners',\n",
              " \"It's Only the Himalayas\"]"
            ]
          },
          "metadata": {},
          "execution_count": 27
        }
      ],
      "source": [
        "book_name"
      ]
    },
    {
      "cell_type": "code",
      "execution_count": null,
      "metadata": {
        "id": "1jnRF2VJtAb2"
      },
      "outputs": [],
      "source": [
        "# option no.2\n",
        "book_name_2 = []\n",
        "for result in results:\n",
        "  book_name_2.append(result.find('h3').find('a').get('title'))"
      ]
    },
    {
      "cell_type": "code",
      "execution_count": null,
      "metadata": {
        "id": "sgtWWxyatAb2"
      },
      "outputs": [],
      "source": [
        "# book_name_2"
      ]
    },
    {
      "cell_type": "markdown",
      "metadata": {
        "id": "TIqOBGIVtAb2"
      },
      "source": [
        "#### Price"
      ]
    },
    {
      "cell_type": "code",
      "execution_count": null,
      "metadata": {
        "id": "qWa4A9c4tAb3"
      },
      "outputs": [],
      "source": [
        "# list comprehension\n",
        "book_price = [result.find('p', {'class':'price_color'}).get_text() for result in results]"
      ]
    },
    {
      "cell_type": "code",
      "execution_count": null,
      "metadata": {
        "colab": {
          "base_uri": "https://localhost:8080/"
        },
        "id": "i17gRH-GtAb3",
        "outputId": "ae9d5e30-f4eb-4f06-f676-2d42feba2176"
      },
      "outputs": [
        {
          "output_type": "execute_result",
          "data": {
            "text/plain": [
              "['£51.77',\n",
              " '£53.74',\n",
              " '£50.10',\n",
              " '£47.82',\n",
              " '£54.23',\n",
              " '£22.65',\n",
              " '£33.34',\n",
              " '£17.93',\n",
              " '£22.60',\n",
              " '£52.15',\n",
              " '£13.99',\n",
              " '£20.66',\n",
              " '£17.46',\n",
              " '£52.29',\n",
              " '£35.02',\n",
              " '£57.25',\n",
              " '£23.88',\n",
              " '£37.59',\n",
              " '£51.33',\n",
              " '£45.17']"
            ]
          },
          "metadata": {},
          "execution_count": 31
        }
      ],
      "source": [
        "book_price"
      ]
    },
    {
      "cell_type": "markdown",
      "metadata": {
        "id": "50dZgUGjtAb3"
      },
      "source": [
        "#### Stock Availability"
      ]
    },
    {
      "cell_type": "code",
      "execution_count": null,
      "metadata": {
        "id": "af-u51xHtAb3"
      },
      "outputs": [],
      "source": [
        "stock_availability = []\n",
        "for result in results:\n",
        "  stock_availability.append(result.find('p', {'class':'instock availability'}).get_text().strip())"
      ]
    },
    {
      "cell_type": "code",
      "execution_count": null,
      "metadata": {
        "colab": {
          "base_uri": "https://localhost:8080/"
        },
        "id": "RmhjFMhTtAb3",
        "outputId": "fb157ca6-0fed-49b2-9563-ce76b24156a3"
      },
      "outputs": [
        {
          "output_type": "execute_result",
          "data": {
            "text/plain": [
              "['In stock',\n",
              " 'In stock',\n",
              " 'In stock',\n",
              " 'In stock',\n",
              " 'In stock',\n",
              " 'In stock',\n",
              " 'In stock',\n",
              " 'In stock',\n",
              " 'In stock',\n",
              " 'In stock',\n",
              " 'In stock',\n",
              " 'In stock',\n",
              " 'In stock',\n",
              " 'In stock',\n",
              " 'In stock',\n",
              " 'In stock',\n",
              " 'In stock',\n",
              " 'In stock',\n",
              " 'In stock',\n",
              " 'In stock']"
            ]
          },
          "metadata": {},
          "execution_count": 33
        }
      ],
      "source": [
        "stock_availability"
      ]
    },
    {
      "cell_type": "markdown",
      "metadata": {
        "id": "SQ8WZ9ietAb4"
      },
      "source": [
        "### Pandas Dataframe"
      ]
    },
    {
      "cell_type": "code",
      "execution_count": null,
      "metadata": {
        "id": "8xMK-W9ktAb4"
      },
      "outputs": [],
      "source": [
        "book_info = pd.DataFrame({'name':book_name, 'value':book_price, 'availability': stock_availability})"
      ]
    },
    {
      "cell_type": "code",
      "execution_count": null,
      "metadata": {
        "colab": {
          "base_uri": "https://localhost:8080/",
          "height": 677
        },
        "id": "qphQnJ61tAb4",
        "outputId": "4468d8c0-cae8-49ea-8695-e5612e1573bb"
      },
      "outputs": [
        {
          "output_type": "execute_result",
          "data": {
            "text/html": [
              "\n",
              "  <div id=\"df-c0a200c9-19d4-4964-866f-a8c2c47642f2\">\n",
              "    <div class=\"colab-df-container\">\n",
              "      <div>\n",
              "<style scoped>\n",
              "    .dataframe tbody tr th:only-of-type {\n",
              "        vertical-align: middle;\n",
              "    }\n",
              "\n",
              "    .dataframe tbody tr th {\n",
              "        vertical-align: top;\n",
              "    }\n",
              "\n",
              "    .dataframe thead th {\n",
              "        text-align: right;\n",
              "    }\n",
              "</style>\n",
              "<table border=\"1\" class=\"dataframe\">\n",
              "  <thead>\n",
              "    <tr style=\"text-align: right;\">\n",
              "      <th></th>\n",
              "      <th>name</th>\n",
              "      <th>value</th>\n",
              "      <th>availability</th>\n",
              "    </tr>\n",
              "  </thead>\n",
              "  <tbody>\n",
              "    <tr>\n",
              "      <th>0</th>\n",
              "      <td>A Light in the Attic</td>\n",
              "      <td>£51.77</td>\n",
              "      <td>In stock</td>\n",
              "    </tr>\n",
              "    <tr>\n",
              "      <th>1</th>\n",
              "      <td>Tipping the Velvet</td>\n",
              "      <td>£53.74</td>\n",
              "      <td>In stock</td>\n",
              "    </tr>\n",
              "    <tr>\n",
              "      <th>2</th>\n",
              "      <td>Soumission</td>\n",
              "      <td>£50.10</td>\n",
              "      <td>In stock</td>\n",
              "    </tr>\n",
              "    <tr>\n",
              "      <th>3</th>\n",
              "      <td>Sharp Objects</td>\n",
              "      <td>£47.82</td>\n",
              "      <td>In stock</td>\n",
              "    </tr>\n",
              "    <tr>\n",
              "      <th>4</th>\n",
              "      <td>Sapiens: A Brief History of Humankind</td>\n",
              "      <td>£54.23</td>\n",
              "      <td>In stock</td>\n",
              "    </tr>\n",
              "    <tr>\n",
              "      <th>5</th>\n",
              "      <td>The Requiem Red</td>\n",
              "      <td>£22.65</td>\n",
              "      <td>In stock</td>\n",
              "    </tr>\n",
              "    <tr>\n",
              "      <th>6</th>\n",
              "      <td>The Dirty Little Secrets of Getting Your Dream...</td>\n",
              "      <td>£33.34</td>\n",
              "      <td>In stock</td>\n",
              "    </tr>\n",
              "    <tr>\n",
              "      <th>7</th>\n",
              "      <td>The Coming Woman: A Novel Based on the Life of...</td>\n",
              "      <td>£17.93</td>\n",
              "      <td>In stock</td>\n",
              "    </tr>\n",
              "    <tr>\n",
              "      <th>8</th>\n",
              "      <td>The Boys in the Boat: Nine Americans and Their...</td>\n",
              "      <td>£22.60</td>\n",
              "      <td>In stock</td>\n",
              "    </tr>\n",
              "    <tr>\n",
              "      <th>9</th>\n",
              "      <td>The Black Maria</td>\n",
              "      <td>£52.15</td>\n",
              "      <td>In stock</td>\n",
              "    </tr>\n",
              "    <tr>\n",
              "      <th>10</th>\n",
              "      <td>Starving Hearts (Triangular Trade Trilogy, #1)</td>\n",
              "      <td>£13.99</td>\n",
              "      <td>In stock</td>\n",
              "    </tr>\n",
              "    <tr>\n",
              "      <th>11</th>\n",
              "      <td>Shakespeare's Sonnets</td>\n",
              "      <td>£20.66</td>\n",
              "      <td>In stock</td>\n",
              "    </tr>\n",
              "    <tr>\n",
              "      <th>12</th>\n",
              "      <td>Set Me Free</td>\n",
              "      <td>£17.46</td>\n",
              "      <td>In stock</td>\n",
              "    </tr>\n",
              "    <tr>\n",
              "      <th>13</th>\n",
              "      <td>Scott Pilgrim's Precious Little Life (Scott Pi...</td>\n",
              "      <td>£52.29</td>\n",
              "      <td>In stock</td>\n",
              "    </tr>\n",
              "    <tr>\n",
              "      <th>14</th>\n",
              "      <td>Rip it Up and Start Again</td>\n",
              "      <td>£35.02</td>\n",
              "      <td>In stock</td>\n",
              "    </tr>\n",
              "    <tr>\n",
              "      <th>15</th>\n",
              "      <td>Our Band Could Be Your Life: Scenes from the A...</td>\n",
              "      <td>£57.25</td>\n",
              "      <td>In stock</td>\n",
              "    </tr>\n",
              "    <tr>\n",
              "      <th>16</th>\n",
              "      <td>Olio</td>\n",
              "      <td>£23.88</td>\n",
              "      <td>In stock</td>\n",
              "    </tr>\n",
              "    <tr>\n",
              "      <th>17</th>\n",
              "      <td>Mesaerion: The Best Science Fiction Stories 18...</td>\n",
              "      <td>£37.59</td>\n",
              "      <td>In stock</td>\n",
              "    </tr>\n",
              "    <tr>\n",
              "      <th>18</th>\n",
              "      <td>Libertarianism for Beginners</td>\n",
              "      <td>£51.33</td>\n",
              "      <td>In stock</td>\n",
              "    </tr>\n",
              "    <tr>\n",
              "      <th>19</th>\n",
              "      <td>It's Only the Himalayas</td>\n",
              "      <td>£45.17</td>\n",
              "      <td>In stock</td>\n",
              "    </tr>\n",
              "  </tbody>\n",
              "</table>\n",
              "</div>\n",
              "      <button class=\"colab-df-convert\" onclick=\"convertToInteractive('df-c0a200c9-19d4-4964-866f-a8c2c47642f2')\"\n",
              "              title=\"Convert this dataframe to an interactive table.\"\n",
              "              style=\"display:none;\">\n",
              "        \n",
              "  <svg xmlns=\"http://www.w3.org/2000/svg\" height=\"24px\"viewBox=\"0 0 24 24\"\n",
              "       width=\"24px\">\n",
              "    <path d=\"M0 0h24v24H0V0z\" fill=\"none\"/>\n",
              "    <path d=\"M18.56 5.44l.94 2.06.94-2.06 2.06-.94-2.06-.94-.94-2.06-.94 2.06-2.06.94zm-11 1L8.5 8.5l.94-2.06 2.06-.94-2.06-.94L8.5 2.5l-.94 2.06-2.06.94zm10 10l.94 2.06.94-2.06 2.06-.94-2.06-.94-.94-2.06-.94 2.06-2.06.94z\"/><path d=\"M17.41 7.96l-1.37-1.37c-.4-.4-.92-.59-1.43-.59-.52 0-1.04.2-1.43.59L10.3 9.45l-7.72 7.72c-.78.78-.78 2.05 0 2.83L4 21.41c.39.39.9.59 1.41.59.51 0 1.02-.2 1.41-.59l7.78-7.78 2.81-2.81c.8-.78.8-2.07 0-2.86zM5.41 20L4 18.59l7.72-7.72 1.47 1.35L5.41 20z\"/>\n",
              "  </svg>\n",
              "      </button>\n",
              "      \n",
              "  <style>\n",
              "    .colab-df-container {\n",
              "      display:flex;\n",
              "      flex-wrap:wrap;\n",
              "      gap: 12px;\n",
              "    }\n",
              "\n",
              "    .colab-df-convert {\n",
              "      background-color: #E8F0FE;\n",
              "      border: none;\n",
              "      border-radius: 50%;\n",
              "      cursor: pointer;\n",
              "      display: none;\n",
              "      fill: #1967D2;\n",
              "      height: 32px;\n",
              "      padding: 0 0 0 0;\n",
              "      width: 32px;\n",
              "    }\n",
              "\n",
              "    .colab-df-convert:hover {\n",
              "      background-color: #E2EBFA;\n",
              "      box-shadow: 0px 1px 2px rgba(60, 64, 67, 0.3), 0px 1px 3px 1px rgba(60, 64, 67, 0.15);\n",
              "      fill: #174EA6;\n",
              "    }\n",
              "\n",
              "    [theme=dark] .colab-df-convert {\n",
              "      background-color: #3B4455;\n",
              "      fill: #D2E3FC;\n",
              "    }\n",
              "\n",
              "    [theme=dark] .colab-df-convert:hover {\n",
              "      background-color: #434B5C;\n",
              "      box-shadow: 0px 1px 3px 1px rgba(0, 0, 0, 0.15);\n",
              "      filter: drop-shadow(0px 1px 2px rgba(0, 0, 0, 0.3));\n",
              "      fill: #FFFFFF;\n",
              "    }\n",
              "  </style>\n",
              "\n",
              "      <script>\n",
              "        const buttonEl =\n",
              "          document.querySelector('#df-c0a200c9-19d4-4964-866f-a8c2c47642f2 button.colab-df-convert');\n",
              "        buttonEl.style.display =\n",
              "          google.colab.kernel.accessAllowed ? 'block' : 'none';\n",
              "\n",
              "        async function convertToInteractive(key) {\n",
              "          const element = document.querySelector('#df-c0a200c9-19d4-4964-866f-a8c2c47642f2');\n",
              "          const dataTable =\n",
              "            await google.colab.kernel.invokeFunction('convertToInteractive',\n",
              "                                                     [key], {});\n",
              "          if (!dataTable) return;\n",
              "\n",
              "          const docLinkHtml = 'Like what you see? Visit the ' +\n",
              "            '<a target=\"_blank\" href=https://colab.research.google.com/notebooks/data_table.ipynb>data table notebook</a>'\n",
              "            + ' to learn more about interactive tables.';\n",
              "          element.innerHTML = '';\n",
              "          dataTable['output_type'] = 'display_data';\n",
              "          await google.colab.output.renderOutput(dataTable, element);\n",
              "          const docLink = document.createElement('div');\n",
              "          docLink.innerHTML = docLinkHtml;\n",
              "          element.appendChild(docLink);\n",
              "        }\n",
              "      </script>\n",
              "    </div>\n",
              "  </div>\n",
              "  "
            ],
            "text/plain": [
              "                                                 name   value availability\n",
              "0                                A Light in the Attic  £51.77     In stock\n",
              "1                                  Tipping the Velvet  £53.74     In stock\n",
              "2                                          Soumission  £50.10     In stock\n",
              "3                                       Sharp Objects  £47.82     In stock\n",
              "4               Sapiens: A Brief History of Humankind  £54.23     In stock\n",
              "5                                     The Requiem Red  £22.65     In stock\n",
              "6   The Dirty Little Secrets of Getting Your Dream...  £33.34     In stock\n",
              "7   The Coming Woman: A Novel Based on the Life of...  £17.93     In stock\n",
              "8   The Boys in the Boat: Nine Americans and Their...  £22.60     In stock\n",
              "9                                     The Black Maria  £52.15     In stock\n",
              "10     Starving Hearts (Triangular Trade Trilogy, #1)  £13.99     In stock\n",
              "11                              Shakespeare's Sonnets  £20.66     In stock\n",
              "12                                        Set Me Free  £17.46     In stock\n",
              "13  Scott Pilgrim's Precious Little Life (Scott Pi...  £52.29     In stock\n",
              "14                          Rip it Up and Start Again  £35.02     In stock\n",
              "15  Our Band Could Be Your Life: Scenes from the A...  £57.25     In stock\n",
              "16                                               Olio  £23.88     In stock\n",
              "17  Mesaerion: The Best Science Fiction Stories 18...  £37.59     In stock\n",
              "18                       Libertarianism for Beginners  £51.33     In stock\n",
              "19                            It's Only the Himalayas  £45.17     In stock"
            ]
          },
          "metadata": {},
          "execution_count": 38
        }
      ],
      "source": [
        "book_info"
      ]
    },
    {
      "cell_type": "code",
      "execution_count": null,
      "metadata": {
        "id": "P7pJcbkftAb4"
      },
      "outputs": [],
      "source": [
        ""
      ]
    },
    {
      "cell_type": "markdown",
      "metadata": {
        "id": "hXMbPvGZtAb5"
      },
      "source": [
        "### Save in Excel"
      ]
    },
    {
      "cell_type": "code",
      "execution_count": null,
      "metadata": {
        "id": "3Qhlnj-6tAb5"
      },
      "outputs": [],
      "source": [
        "book_info.to_excel('books_results_done.xlsx', index=False)"
      ]
    }
  ],
  "metadata": {
    "kernelspec": {
      "display_name": "Python 3",
      "language": "python",
      "name": "python3"
    },
    "language_info": {
      "codemirror_mode": {
        "name": "ipython",
        "version": 3
      },
      "file_extension": ".py",
      "mimetype": "text/x-python",
      "name": "python",
      "nbconvert_exporter": "python",
      "pygments_lexer": "ipython3",
      "version": "3.9.2"
    },
    "colab": {
      "name": "Project_1_Beginner.ipynb",
      "provenance": [],
      "include_colab_link": true
    }
  },
  "nbformat": 4,
  "nbformat_minor": 0
}